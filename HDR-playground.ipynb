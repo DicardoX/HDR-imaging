{
 "cells": [
  {
   "cell_type": "code",
   "execution_count": 96,
   "metadata": {
    "collapsed": false,
    "deletable": true,
    "editable": true
   },
   "outputs": [],
   "source": [
    "# -*- coding: utf-8 -*-\n",
    "\n",
    "import os\n",
    "import cv2\n",
    "import math\n",
    "import numpy as np\n",
    "import matplotlib.pyplot as plt\n",
    "import random\n",
    "\n"
   ]
  },
  {
   "cell_type": "code",
   "execution_count": 242,
   "metadata": {
    "collapsed": true,
    "deletable": true,
    "editable": true
   },
   "outputs": [],
   "source": [
    "def load_exposures(source_dir, channel=0):\n",
    "    filenames = []\n",
    "    exposure_times = []\n",
    "    f = open(os.path.join(source_dir, 'image_list.txt'))\n",
    "    for line in f:\n",
    "        if (line[0] == '#'):\n",
    "            continue\n",
    "        (filename, exposure, *rest) = line.split()\n",
    "        filenames += [filename]\n",
    "        exposure_times += [exposure]\n",
    "    \n",
    "    img_list = [cv2.imread(os.path.join(source_dir, f), 1) for f in filenames]\n",
    "    img_list = [img[:,:,channel] for img in img_list]\n",
    "    exposure_times = np.array(exposure_times, dtype=np.float32)\n",
    "\n",
    "    return (img_list, exposure_times)\n"
   ]
  },
  {
   "cell_type": "code",
   "execution_count": 243,
   "metadata": {
    "collapsed": false,
    "deletable": true,
    "editable": true
   },
   "outputs": [],
   "source": [
    "def hdr_debvec(img_list, exposure_times):\n",
    "    B = [math.log(e,2) for e in exposure_times]\n",
    "    l = 50\n",
    "    w = [z if z <= 0.5*255 else 255-z for z in range(256)]\n",
    "\n",
    "    small_img = [cv2.resize(img, (10, 10)) for img in img_list]\n",
    "    Z = [img.flatten() for img in small_img]\n",
    "\n",
    "    \n",
    "    print(np.shape(Z))\n",
    "    \n",
    "    return response_curve_solver(Z, B, l, w)\n"
   ]
  },
  {
   "cell_type": "code",
   "execution_count": 250,
   "metadata": {
    "collapsed": false,
    "deletable": true,
    "editable": true
   },
   "outputs": [],
   "source": [
    "def response_curve_solver(Z, B, l, w):\n",
    "    n = 256\n",
    "    A = np.zeros(shape=(np.size(Z, 0)*np.size(Z, 1)+n+1, n+np.size(Z, 1)), dtype=np.float32)\n",
    "    b = np.zeros(shape=(np.size(A, 0), 1), dtype=np.float32)\n",
    "\n",
    "    # Include the data−fitting equations\n",
    "    k = 0\n",
    "    for i in range(np.size(Z, 1)):\n",
    "        for j in range(np.size(Z, 0)):\n",
    "            z = Z[j][i]\n",
    "            wij = w[z]\n",
    "            A[k][z] = wij\n",
    "            A[k][n+i] = -wij\n",
    "            b[k] = wij*B[j]\n",
    "            k += 1\n",
    "    \n",
    "    # Fix the curve by setting its middle value to 0\n",
    "    A[k][128] = 1\n",
    "    k += 1\n",
    "\n",
    "    # Include the smoothness equations\n",
    "    for i in range(n-1):\n",
    "        A[k][i]   =    l*w[i+1]\n",
    "        A[k][i+1] = -2*l*w[i+1]\n",
    "        A[k][i+2] =    l*w[i+1]\n",
    "        k += 1\n",
    "\n",
    "    print(np.shape(A))\n",
    "    print(np.shape(b))\n",
    "    \n",
    "    # Solve the system using SVD\n",
    "    x = np.linalg.lstsq(A, b)[0]\n",
    "    g = x[:256]\n",
    "    lE = x[256:]\n",
    "    print('done')\n",
    "\n",
    "    return g, lE\n"
   ]
  },
  {
   "cell_type": "code",
   "execution_count": 251,
   "metadata": {
    "collapsed": false,
    "deletable": true,
    "editable": true
   },
   "outputs": [
    {
     "name": "stdout",
     "output_type": "stream",
     "text": [
      "(16, 100)\n",
      "(1857, 356)\n",
      "(1857, 1)\n",
      "done\n",
      "(16, 100)\n",
      "(1857, 356)\n",
      "(1857, 1)\n",
      "done\n",
      "(16, 100)\n",
      "(1857, 356)\n",
      "(1857, 1)\n",
      "done\n"
     ]
    }
   ],
   "source": [
    "# Loading exposure images into a list\n",
    "img_list_b, exposure_times = load_exposures('test', 0)\n",
    "img_list_g, exposure_times = load_exposures('test', 1)\n",
    "img_list_r, exposure_times = load_exposures('test', 2)\n",
    "\n",
    "gb, _ = hdr_debvec(img_list_b, exposure_times)\n",
    "gg, _ = hdr_debvec(img_list_g, exposure_times)\n",
    "gr, _ = hdr_debvec(img_list_r, exposure_times)\n",
    "\n",
    "#print(x)\n"
   ]
  },
  {
   "cell_type": "code",
   "execution_count": 246,
   "metadata": {
    "collapsed": false,
    "deletable": true,
    "editable": true
   },
   "outputs": [],
   "source": [
    "g = x[0][:256]"
   ]
  },
  {
   "cell_type": "code",
   "execution_count": 247,
   "metadata": {
    "collapsed": false,
    "deletable": true,
    "editable": true
   },
   "outputs": [],
   "source": [
    "lE= x[0][256:]"
   ]
  },
  {
   "cell_type": "code",
   "execution_count": 248,
   "metadata": {
    "collapsed": false,
    "deletable": true,
    "editable": true,
    "scrolled": false
   },
   "outputs": [
    {
     "name": "stdout",
     "output_type": "stream",
     "text": [
      "256 100\n",
      "[ 2305974.5]\n"
     ]
    }
   ],
   "source": [
    "print(len(g),len(lE))\n",
    "print(x[1])"
   ]
  },
  {
   "cell_type": "code",
   "execution_count": 254,
   "metadata": {
    "collapsed": false,
    "deletable": true,
    "editable": true,
    "scrolled": false
   },
   "outputs": [
    {
     "data": {
      "image/png": "[encoded data removed]",
      "text/plain": [
       "<matplotlib.figure.Figure at 0x2602c5ebe48>"
      ]
     },
     "metadata": {},
     "output_type": "display_data"
    }
   ],
   "source": [
    "plt.plot(gr,range(256), 'r')\n",
    "plt.plot(gg,range(256), 'g')\n",
    "plt.plot(gb,range(256), 'b')\n",
    "plt.show()"
   ]
  },
  {
   "cell_type": "code",
   "execution_count": null,
   "metadata": {
    "collapsed": true
   },
   "outputs": [],
   "source": []
  }
 ],
 "metadata": {
  "kernelspec": {
   "display_name": "Python 3",
   "language": "python",
   "name": "python3"
  },
  "language_info": {
   "codemirror_mode": {
    "name": "ipython",
    "version": 3
   },
   "file_extension": ".py",
   "mimetype": "text/x-python",
   "name": "python",
   "nbconvert_exporter": "python",
   "pygments_lexer": "ipython3",
   "version": "3.5.3"
  }
 },
 "nbformat": 4,
 "nbformat_minor": 2
}
